{
 "cells": [
  {
   "cell_type": "markdown",
   "metadata": {},
   "source": [
    "- Installing NLTK Module"
   ]
  },
  {
   "cell_type": "code",
   "execution_count": null,
   "metadata": {
    "vscode": {
     "languageId": "shellscript"
    }
   },
   "outputs": [],
   "source": [
    "pip3 install nltk"
   ]
  },
  {
   "cell_type": "markdown",
   "metadata": {},
   "source": [
    "---\n",
    "\n",
    "## Importing NLTK Modules"
   ]
  },
  {
   "cell_type": "code",
   "execution_count": 13,
   "metadata": {},
   "outputs": [],
   "source": [
    "import nltk\n",
    "\n",
    "from nltk.corpus import stopwords\n",
    "from nltk.tokenize import word_tokenize, sent_tokenize\n",
    "from nltk.stem import LancasterStemmer\n",
    "from nltk.stem import PorterStemmer\n",
    "from nltk.stem import WordNetLemmatizer "
   ]
  },
  {
   "cell_type": "markdown",
   "metadata": {},
   "source": [
    "- Downloading NLTK Models"
   ]
  },
  {
   "cell_type": "code",
   "execution_count": 18,
   "metadata": {},
   "outputs": [
    {
     "name": "stderr",
     "output_type": "stream",
     "text": [
      "[nltk_data] Downloading package stopwords to\n",
      "[nltk_data]     /home/yash-d3/nltk_data...\n",
      "[nltk_data]   Package stopwords is already up-to-date!\n",
      "[nltk_data] Downloading package punkt to /home/yash-d3/nltk_data...\n",
      "[nltk_data]   Package punkt is already up-to-date!\n",
      "[nltk_data] Downloading package averaged_perceptron_tagger to\n",
      "[nltk_data]     /home/yash-d3/nltk_data...\n",
      "[nltk_data]   Package averaged_perceptron_tagger is already up-to-\n",
      "[nltk_data]       date!\n",
      "[nltk_data] Downloading package wordnet to /home/yash-d3/nltk_data...\n",
      "[nltk_data]   Package wordnet is already up-to-date!\n",
      "[nltk_data] Downloading package omw-1.4 to /home/yash-d3/nltk_data...\n",
      "[nltk_data]   Unzipping corpora/omw-1.4.zip.\n"
     ]
    },
    {
     "data": {
      "text/plain": [
       "True"
      ]
     },
     "execution_count": 18,
     "metadata": {},
     "output_type": "execute_result"
    }
   ],
   "source": [
    "nltk.download('stopwords')\n",
    "nltk.download('punkt')\n",
    "nltk.download('averaged_perceptron_tagger')\n",
    "nltk.download('wordnet')\n",
    "nltk.download('omw-1.4')"
   ]
  },
  {
   "cell_type": "code",
   "execution_count": 19,
   "metadata": {},
   "outputs": [
    {
     "name": "stdout",
     "output_type": "stream",
     "text": [
      "[('Sukanya', 'NNP'), (',', ','), ('Rajib', 'NNP'), ('Naba', 'NNP'), ('good', 'JJ'), ('friends', 'NNS'), ('.', '.')]\n",
      "Stemming by PorterStemmer:  ['sukanya', ',', 'rajib', 'naba', 'good', 'friend', '.']\n",
      "Stemming by LancsterStemmer:  ['sukany', ',', 'rajib', 'nab', 'good', 'friend', '.']\n",
      "Lemmatize by Wordnet Lemmatizer:  ['Sukanya', ',', 'Rajib', 'Naba', 'good', 'friend', '.']\n",
      "[('Sukanya', 'NNP'), ('getting', 'VBG'), ('married', 'VBN'), ('next', 'JJ'), ('year', 'NN'), ('.', '.')]\n",
      "Stemming by PorterStemmer:  ['sukanya', 'get', 'marri', 'next', 'year', '.']\n",
      "Stemming by LancsterStemmer:  ['sukany', 'get', 'marry', 'next', 'year', '.']\n",
      "Lemmatize by Wordnet Lemmatizer:  ['Sukanya', 'getting', 'married', 'next', 'year', '.']\n",
      "[('Marriage', 'NN'), ('big', 'JJ'), ('step', 'NN'), ('one', 'CD'), ('’', 'NN'), ('life.It', 'NN'), ('exciting', 'VBG'), ('frightening', 'NN'), ('.', '.')]\n",
      "Stemming by PorterStemmer:  ['marriag', 'big', 'step', 'one', '’', 'life.it', 'excit', 'frighten', '.']\n",
      "Stemming by LancsterStemmer:  ['marry', 'big', 'step', 'on', '’', 'life.it', 'excit', 'fright', '.']\n",
      "Lemmatize by Wordnet Lemmatizer:  ['Marriage', 'big', 'step', 'one', '’', 'life.It', 'exciting', 'frightening', '.']\n",
      "[('But', 'CC'), ('friendship', 'NN'), ('sacred', 'VBD'), ('bond', 'NN'), ('people.It', 'NN'), ('special', 'JJ'), ('kind', 'NN'), ('love', 'VB'), ('us', 'PRP'), ('.', '.')]\n",
      "Stemming by PorterStemmer:  ['but', 'friendship', 'sacr', 'bond', 'people.it', 'special', 'kind', 'love', 'us', '.']\n",
      "Stemming by LancsterStemmer:  ['but', 'friend', 'sacr', 'bond', 'people.it', 'spec', 'kind', 'lov', 'us', '.']\n",
      "Lemmatize by Wordnet Lemmatizer:  ['But', 'friendship', 'sacred', 'bond', 'people.It', 'special', 'kind', 'love', 'u', '.']\n",
      "[('Many', 'JJ'), ('must', 'MD'), ('tried', 'VB'), ('searching', 'VBG'), ('friend', 'NN'), ('never', 'RB'), ('found', 'VBD'), ('right', 'JJ'), ('one', 'CD'), ('.', '.')]\n",
      "Stemming by PorterStemmer:  ['mani', 'must', 'tri', 'search', 'friend', 'never', 'found', 'right', 'one', '.']\n",
      "Stemming by LancsterStemmer:  ['many', 'must', 'tri', 'search', 'friend', 'nev', 'found', 'right', 'on', '.']\n",
      "Lemmatize by Wordnet Lemmatizer:  ['Many', 'must', 'tried', 'searching', 'friend', 'never', 'found', 'right', 'one', '.']\n"
     ]
    }
   ],
   "source": [
    "p = PorterStemmer()\n",
    "l = LancasterStemmer()\n",
    "lemt = WordNetLemmatizer()\n",
    "\n",
    "stop_words = set(stopwords.words('english'))\n",
    " \n",
    "# Dummy text\n",
    "txt = \"Sukanya, Rajib and Naba are my good friends. \" \\\n",
    "    \"Sukanya is getting married next year. \" \\\n",
    "    \"Marriage is a big step in one’s life.\" \\\n",
    "    \"It is both exciting and frightening. \" \\\n",
    "    \"But friendship is a sacred bond between people.\" \\\n",
    "    \"It is a special kind of love between us. \" \\\n",
    "    \"Many of you must have tried searching for a friend \"\\\n",
    "    \"but never found the right one.\"\n",
    " \n",
    "# sent_tokenize is one of instances of\n",
    "# PunktSentenceTokenizer from the nltk.tokenize.punkt module\n",
    "\n",
    "tokenized = sent_tokenize(txt)  #it is line by line tokenizing\n",
    "\n",
    "for i in tokenized:\n",
    "\n",
    "    # Word tokenizers is used to find the words\n",
    "    # and punctuation in a string\n",
    "    wordsList = nltk.word_tokenize(i)\n",
    "    \n",
    " \n",
    "    # removing stop words from wordList\n",
    "    wordsList = [w for w in wordsList if not w in stop_words]\n",
    " \n",
    "    # Using a Tagger. Which is part-of-speech\n",
    "    # tagger or POS-tagger.\n",
    "    tagged = nltk.pos_tag(wordsList)\n",
    "    \n",
    "    print(tagged)\n",
    "\n",
    "    Pstemed = [p.stem(w) for w in wordsList]\n",
    "    Lstemed = [l.stem(w) for w in wordsList]\n",
    "    WLemtize = [lemt.lemmatize(w) for w in wordsList]\n",
    "\n",
    "    print('Stemming by PorterStemmer: ', Pstemed)\n",
    "    print('Stemming by LancsterStemmer: ',Lstemed)\n",
    "    print('Lemmatize by Wordnet Lemmatizer: ',WLemtize)\n"
   ]
  },
  {
   "cell_type": "code",
   "execution_count": 20,
   "metadata": {},
   "outputs": [
    {
     "name": "stdout",
     "output_type": "stream",
     "text": [
      "{'during', 'yours', 'haven', \"weren't\", 'is', 'which', 'above', 'why', 'ours', 'yourself', 'will', \"hasn't\", 'i', \"mustn't\", 'o', 'he', 'their', 'those', 'm', 'to', 'too', 'up', 'just', 'and', 'while', 'be', 'his', 'a', 'how', 'herself', 'about', 'we', 'because', \"doesn't\", \"needn't\", \"that'll\", 's', 'most', 'mustn', 'or', 'your', 'in', \"should've\", 'hers', 'after', 'very', \"didn't\", 'yourselves', 'are', \"shouldn't\", 'itself', 'doesn', 'himself', 'now', 'what', \"wasn't\", 'didn', 'again', 'aren', 'couldn', 'where', 'than', 're', 'down', 'no', 'for', 'few', 'such', 'before', 'does', 'against', 'nor', 'has', 'other', 'there', 'ain', \"shan't\", 'so', 'our', 'with', 'once', 'at', 'not', 'wasn', 'shan', 'was', 'these', 'am', 'then', 'myself', \"you'll\", 'them', 'she', \"you're\", 'were', \"wouldn't\", 'on', 'had', 'weren', 'any', 'hadn', 'y', 'needn', \"you've\", 'under', \"won't\", 'should', 'all', 'an', 'her', 'ma', 'it', 'won', 'been', 'but', 'from', 'have', 'by', 'when', 'doing', 'having', 'wouldn', 'until', 'they', 'own', \"don't\", \"hadn't\", 'here', 'shouldn', \"she's\", 'you', 'mightn', 'off', 'only', \"it's\", 'll', 'this', 'whom', 'themselves', 'further', 't', 'my', 'ourselves', 'hasn', 'isn', 'out', 'can', \"isn't\", 'who', 'between', 've', 'over', 'some', 'that', 'd', 'below', 'each', \"couldn't\", 'me', 'through', 'theirs', 'its', 'if', \"mightn't\", 'him', 'of', 'same', 'did', 'as', 'into', 'the', \"you'd\", 'don', \"haven't\", 'being', 'do', 'both', \"aren't\", 'more'}\n",
      "['Sukanya, Rajib and Naba are my good friends.', 'Sukanya is getting married next year.', 'Marriage is a big step in one’s life.It is both exciting and frightening.', 'But friendship is a sacred bond between people.It is a special kind of love between us.', 'Many of you must have tried searching for a friend but never found the right one.']\n",
      "['Sukanya', ',', 'Rajib', 'and', 'Naba', 'are', 'my', 'good', 'friends', '.']\n",
      "After removing stopwords:  ['Sukanya', ',', 'Rajib', 'Naba', 'good', 'friends', '.']\n",
      "['Sukanya', 'is', 'getting', 'married', 'next', 'year', '.']\n",
      "After removing stopwords:  ['Sukanya', 'getting', 'married', 'next', 'year', '.']\n",
      "['Marriage', 'is', 'a', 'big', 'step', 'in', 'one', '’', 's', 'life.It', 'is', 'both', 'exciting', 'and', 'frightening', '.']\n",
      "After removing stopwords:  ['Marriage', 'big', 'step', 'one', '’', 'life.It', 'exciting', 'frightening', '.']\n",
      "['But', 'friendship', 'is', 'a', 'sacred', 'bond', 'between', 'people.It', 'is', 'a', 'special', 'kind', 'of', 'love', 'between', 'us', '.']\n",
      "After removing stopwords:  ['But', 'friendship', 'sacred', 'bond', 'people.It', 'special', 'kind', 'love', 'us', '.']\n",
      "['Many', 'of', 'you', 'must', 'have', 'tried', 'searching', 'for', 'a', 'friend', 'but', 'never', 'found', 'the', 'right', 'one', '.']\n",
      "After removing stopwords:  ['Many', 'must', 'tried', 'searching', 'friend', 'never', 'found', 'right', 'one', '.']\n"
     ]
    }
   ],
   "source": [
    "stop_words = set(stopwords.words('english'))\n",
    "\n",
    "print(stop_words)\n",
    " \n",
    "# Dummy text\n",
    "txt = \"Sukanya, Rajib and Naba are my good friends. \" \\\n",
    "    \"Sukanya is getting married next year. \" \\\n",
    "    \"Marriage is a big step in one’s life.\" \\\n",
    "    \"It is both exciting and frightening. \" \\\n",
    "    \"But friendship is a sacred bond between people.\" \\\n",
    "    \"It is a special kind of love between us. \" \\\n",
    "    \"Many of you must have tried searching for a friend \"\\\n",
    "    \"but never found the right one.\"\n",
    " \n",
    "# sent_tokenize is one of instances of\n",
    "# PunktSentenceTokenizer from the nltk.tokenize.punkt module\n",
    "\n",
    "tokenized = sent_tokenize(txt)  #it is line by line tokenizing\n",
    "print(tokenized)\n",
    "\n",
    "for line in tokenized:\n",
    "\n",
    "  wordlist = nltk.word_tokenize(line)\n",
    "  print(wordlist)\n",
    "\n",
    "   # removing stop words from wordList\n",
    "  wordList = [w for w in wordlist if not w in stop_words]\n",
    "  print('After removing stopwords: ', wordList)"
   ]
  }
 ],
 "metadata": {
  "interpreter": {
   "hash": "d6bdbfde9273fa39884d104a1f875e3660a3a53ff319f3ad416e45732cf4334f"
  },
  "kernelspec": {
   "display_name": "Python 3.8.10 ('assign7_venv': venv)",
   "language": "python",
   "name": "python3"
  },
  "language_info": {
   "codemirror_mode": {
    "name": "ipython",
    "version": 3
   },
   "file_extension": ".py",
   "mimetype": "text/x-python",
   "name": "python",
   "nbconvert_exporter": "python",
   "pygments_lexer": "ipython3",
   "version": "3.8.10"
  },
  "orig_nbformat": 4
 },
 "nbformat": 4,
 "nbformat_minor": 2
}
