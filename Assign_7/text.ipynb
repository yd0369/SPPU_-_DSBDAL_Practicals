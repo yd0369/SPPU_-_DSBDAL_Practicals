{
  "cells": [
    {
      "cell_type": "code",
      "execution_count": null,
      "metadata": {
        "id": "2gZbYctKum9l"
      },
      "outputs": [],
      "source": [
        "# NLTK - It is natural language toolkit. It is library for text processing.\n",
        "\n",
        "import nltk\n",
        "\n",
        "text = 'this is data, from twitter for text analysis'\n",
        "tokens = nltk.word_tokenize(text)\n",
        "print(tokens)"
      ]
    },
    {
      "cell_type": "code",
      "execution_count": null,
      "metadata": {
        "id": "Qg0milYTkTEo"
      },
      "outputs": [],
      "source": [
        "nltk.download('stopwords')\n",
        "from nltk.corpus import stopwords\n",
        "from nltk.tokenize import sent_tokenize\n",
        "stop_words = set(stopwords.words('english'))\n",
        "txt = \"Sukanya, Rajib and Naba are my good friends. \" \\\n",
        "    \"Sukanya is getting married next year. \" \\\n",
        "    \"Marriage is a big step in one’s life.\" \\\n",
        "    \"It is both exciting and frightening. \" \\\n",
        "    \"But friendship is a sacred bond between people.\" \\\n",
        "    \"It is a special kind of love between us. \" \\\n",
        "    \"Many of you must have tried searching for a friend \"\\\n",
        "    \"but never found the right one.\"\n",
        "tokens = nltk.word_tokenize(txt)\n",
        "tokens\n",
        "\n",
        "tokenized = sent_tokenize(txt)\n",
        "tokenized"
      ]
    },
    {
      "cell_type": "code",
      "execution_count": null,
      "metadata": {
        "id": "Znp9gAk2aL2S"
      },
      "outputs": [],
      "source": [
        "import nltk\n",
        "\n",
        "\n",
        "from nltk.stem import WordNetLemmatizer \n",
        "from nltk.stem import PorterStemmer\n",
        "from nltk.stem import LancasterStemmer\n",
        "\n",
        "from nltk.tokenize import word_tokenize, sent_tokenize\n",
        "from nltk.corpus import stopwords\n",
        "p = PorterStemmer()\n",
        "l = LancasterStemmer()\n",
        "lemt = WordNetLemmatizer()"
      ]
    },
    {
      "cell_type": "code",
      "execution_count": 25,
      "metadata": {
        "colab": {
          "base_uri": "https://localhost:8080/"
        },
        "id": "m88OQflFk1ZK",
        "outputId": "365bb6e9-e26f-44b7-8ebe-9d97d32f8559"
      },
      "outputs": [
        {
          "name": "stdout",
          "output_type": "stream",
          "text": [
            "[nltk_data] Downloading package averaged_perceptron_tagger to\n",
            "[nltk_data]     /root/nltk_data...\n",
            "[nltk_data]   Package averaged_perceptron_tagger is already up-to-\n",
            "[nltk_data]       date!\n",
            "[nltk_data] Downloading package wordnet to /root/nltk_data...\n",
            "[nltk_data]   Unzipping corpora/wordnet.zip.\n",
            "[('Sukanya', 'NNP'), (',', ','), ('Rajib', 'NNP'), ('Naba', 'NNP'), ('good', 'JJ'), ('friends', 'NNS'), ('.', '.')]\n",
            "Stemming by PorterStemmer:  ['sukanya', ',', 'rajib', 'naba', 'good', 'friend', '.']\n",
            "Stemming by LancsterStemmer:  ['sukany', ',', 'rajib', 'nab', 'good', 'friend', '.']\n",
            "Lemmatize by Wordnet Lemmatizer:  ['Sukanya', ',', 'Rajib', 'Naba', 'good', 'friend', '.']\n",
            "[('Sukanya', 'NNP'), ('getting', 'VBG'), ('married', 'VBN'), ('next', 'JJ'), ('year', 'NN'), ('.', '.')]\n",
            "Stemming by PorterStemmer:  ['sukanya', 'get', 'marri', 'next', 'year', '.']\n",
            "Stemming by LancsterStemmer:  ['sukany', 'get', 'marry', 'next', 'year', '.']\n",
            "Lemmatize by Wordnet Lemmatizer:  ['Sukanya', 'getting', 'married', 'next', 'year', '.']\n",
            "[('Marriage', 'NN'), ('big', 'JJ'), ('step', 'NN'), ('one', 'CD'), ('’', 'NN'), ('life.It', 'NN'), ('exciting', 'VBG'), ('frightening', 'NN'), ('.', '.')]\n",
            "Stemming by PorterStemmer:  ['marriag', 'big', 'step', 'one', '’', 'life.it', 'excit', 'frighten', '.']\n",
            "Stemming by LancsterStemmer:  ['marry', 'big', 'step', 'on', '’', 'life.it', 'excit', 'fright', '.']\n",
            "Lemmatize by Wordnet Lemmatizer:  ['Marriage', 'big', 'step', 'one', '’', 'life.It', 'exciting', 'frightening', '.']\n",
            "[('But', 'CC'), ('friendship', 'NN'), ('sacred', 'VBD'), ('bond', 'NN'), ('people.It', 'NN'), ('special', 'JJ'), ('kind', 'NN'), ('love', 'VB'), ('us', 'PRP'), ('.', '.')]\n",
            "Stemming by PorterStemmer:  ['but', 'friendship', 'sacr', 'bond', 'people.it', 'special', 'kind', 'love', 'us', '.']\n",
            "Stemming by LancsterStemmer:  ['but', 'friend', 'sacr', 'bond', 'people.it', 'spec', 'kind', 'lov', 'us', '.']\n",
            "Lemmatize by Wordnet Lemmatizer:  ['But', 'friendship', 'sacred', 'bond', 'people.It', 'special', 'kind', 'love', 'u', '.']\n",
            "[('Many', 'JJ'), ('must', 'MD'), ('tried', 'VB'), ('searching', 'VBG'), ('friend', 'NN'), ('never', 'RB'), ('found', 'VBD'), ('right', 'JJ'), ('one', 'CD'), ('.', '.')]\n",
            "Stemming by PorterStemmer:  ['mani', 'must', 'tri', 'search', 'friend', 'never', 'found', 'right', 'one', '.']\n",
            "Stemming by LancsterStemmer:  ['many', 'must', 'tri', 'search', 'friend', 'nev', 'found', 'right', 'on', '.']\n",
            "Lemmatize by Wordnet Lemmatizer:  ['Many', 'must', 'tried', 'searching', 'friend', 'never', 'found', 'right', 'one', '.']\n"
          ]
        }
      ],
      "source": [
        "import nltk\n",
        "nltk.download('averaged_perceptron_tagger')\n",
        "nltk.download('wordnet')\n",
        "\n",
        "from nltk.stem import PorterStemmer\n",
        "from nltk.stem import LancasterStemmer\n",
        "from nltk.stem import WordNetLemmatizer\n",
        "\n",
        "p = PorterStemmer()\n",
        "l = LancasterStemmer()\n",
        "lemt = WordNetLemmatizer()\n",
        "\n",
        "stop_words = set(stopwords.words('english'))\n",
        " \n",
        "# Dummy text\n",
        "txt = \"Sukanya, Rajib and Naba are my good friends. \" \\\n",
        "    \"Sukanya is getting married next year. \" \\\n",
        "    \"Marriage is a big step in one’s life.\" \\\n",
        "    \"It is both exciting and frightening. \" \\\n",
        "    \"But friendship is a sacred bond between people.\" \\\n",
        "    \"It is a special kind of love between us. \" \\\n",
        "    \"Many of you must have tried searching for a friend \"\\\n",
        "    \"but never found the right one.\"\n",
        " \n",
        "# sent_tokenize is one of instances of\n",
        "# PunktSentenceTokenizer from the nltk.tokenize.punkt module\n",
        "\n",
        "tokenized = sent_tokenize(txt)  #it is line by line tokenizing\n",
        "\n",
        "for i in tokenized:\n",
        "     \n",
        "    # Word tokenizers is used to find the words\n",
        "    # and punctuation in a string\n",
        "    wordsList = nltk.word_tokenize(i)\n",
        "    \n",
        " \n",
        "    # removing stop words from wordList\n",
        "    wordsList = [w for w in wordsList if not w in stop_words]\n",
        " \n",
        "    # Using a Tagger. Which is part-of-speech\n",
        "    # tagger or POS-tagger.\n",
        "    tagged = nltk.pos_tag(wordsList)\n",
        "    \n",
        "    print(tagged)\n",
        "\n",
        "    Pstemed = [p.stem(w) for w in wordsList]\n",
        "    Lstemed = [l.stem(w) for w in wordsList]\n",
        "    WLemtize = [lemt.lemmatize(w) for w in wordsList]\n",
        "\n",
        "    print('Stemming by PorterStemmer: ', Pstemed)\n",
        "    print('Stemming by LancsterStemmer: ',Lstemed)\n",
        "    print('Lemmatize by Wordnet Lemmatizer: ',WLemtize)\n"
      ]
    },
    {
      "cell_type": "code",
      "execution_count": null,
      "metadata": {
        "colab": {
          "base_uri": "https://localhost:8080/"
        },
        "id": "wL_SQx-fkmYB",
        "outputId": "52b1d2d3-87c9-4bd5-c7bb-bdd6644d2dff"
      },
      "outputs": [
        {
          "name": "stdout",
          "output_type": "stream",
          "text": [
            "{'some', 'nor', 'than', \"weren't\", 'don', 'does', 'they', \"couldn't\", 'ourselves', 'aren', 'into', 'off', 'm', 'herself', \"mightn't\", 'few', 'her', 'these', \"should've\", \"don't\", 'no', 'them', \"shouldn't\", 'of', 'ours', 'themselves', 'while', 'those', 'what', 'now', 'about', 'against', 'his', 'i', \"hadn't\", 'to', 'for', 'if', \"mustn't\", 'shan', 'up', 'out', 'and', 've', \"won't\", 'under', 'myself', 'other', 'are', 'been', 'how', 'in', 'each', 'all', 'before', 'their', 'the', 'or', 'do', 'on', 'y', 'll', \"shan't\", 'there', 'so', \"you're\", 'its', \"hasn't\", 'theirs', 'am', 'weren', 'didn', 'you', 'o', 'during', 'why', 'same', 'hadn', 'any', 'being', 'ain', \"it's\", 'most', 'yours', 'had', 'very', \"doesn't\", 'my', 'here', 'needn', 'hasn', 'with', 'where', 'isn', \"needn't\", 'won', 'your', \"you've\", 'who', 'as', 're', 'was', 'she', 'him', 'wouldn', 'doesn', 'mustn', 'have', 'once', \"you'd\", \"she's\", 'both', \"isn't\", 'this', 'but', 'wasn', 'at', \"you'll\", 'that', 'only', 'not', 'were', 'whom', 'it', 'he', \"didn't\", 'himself', 'when', 'ma', 'having', 'such', 'will', 'is', 'just', 'after', \"aren't\", 'below', 'between', 'because', 'we', 'hers', 'itself', \"haven't\", 'mightn', 'which', 'can', \"wouldn't\", 'yourself', 'from', 'more', 'yourselves', 'too', 't', 'further', 'above', 'an', 'me', 'shouldn', 'by', 'did', 'haven', 'own', 'again', 'down', 'be', 'our', 'through', 'has', \"wasn't\", 'until', \"that'll\", 'then', 'a', 'couldn', 'd', 'over', 's', 'should', 'doing'}\n",
            "['Sukanya, Rajib and Naba are my good friends.', 'Sukanya is getting married next year.', 'Marriage is a big step in one’s life.It is both exciting and frightening.', 'But friendship is a sacred bond between people.It is a special kind of love between us.', 'Many of you must have tried searching for a friend but never found the right one.']\n",
            "['Sukanya', ',', 'Rajib', 'and', 'Naba', 'are', 'my', 'good', 'friends', '.']\n",
            "After removing stopwords:  ['Sukanya', ',', 'Rajib', 'Naba', 'good', 'friends', '.']\n",
            "['Sukanya', 'is', 'getting', 'married', 'next', 'year', '.']\n",
            "After removing stopwords:  ['Sukanya', 'getting', 'married', 'next', 'year', '.']\n",
            "['Marriage', 'is', 'a', 'big', 'step', 'in', 'one', '’', 's', 'life.It', 'is', 'both', 'exciting', 'and', 'frightening', '.']\n",
            "After removing stopwords:  ['Marriage', 'big', 'step', 'one', '’', 'life.It', 'exciting', 'frightening', '.']\n",
            "['But', 'friendship', 'is', 'a', 'sacred', 'bond', 'between', 'people.It', 'is', 'a', 'special', 'kind', 'of', 'love', 'between', 'us', '.']\n",
            "After removing stopwords:  ['But', 'friendship', 'sacred', 'bond', 'people.It', 'special', 'kind', 'love', 'us', '.']\n",
            "['Many', 'of', 'you', 'must', 'have', 'tried', 'searching', 'for', 'a', 'friend', 'but', 'never', 'found', 'the', 'right', 'one', '.']\n",
            "After removing stopwords:  ['Many', 'must', 'tried', 'searching', 'friend', 'never', 'found', 'right', 'one', '.']\n"
          ]
        }
      ],
      "source": [
        "stop_words = set(stopwords.words('english'))\n",
        "\n",
        "print(stop_words)\n",
        " \n",
        "# Dummy text\n",
        "txt = \"Sukanya, Rajib and Naba are my good friends. \" \\\n",
        "    \"Sukanya is getting married next year. \" \\\n",
        "    \"Marriage is a big step in one’s life.\" \\\n",
        "    \"It is both exciting and frightening. \" \\\n",
        "    \"But friendship is a sacred bond between people.\" \\\n",
        "    \"It is a special kind of love between us. \" \\\n",
        "    \"Many of you must have tried searching for a friend \"\\\n",
        "    \"but never found the right one.\"\n",
        " \n",
        "# sent_tokenize is one of instances of\n",
        "# PunktSentenceTokenizer from the nltk.tokenize.punkt module\n",
        "\n",
        "tokenized = sent_tokenize(txt)  #it is line by line tokenizing\n",
        "print(tokenized)\n",
        "\n",
        "for line in tokenized:\n",
        "\n",
        "  wordlist = nltk.word_tokenize(line)\n",
        "  print(wordlist)\n",
        "\n",
        "   # removing stop words from wordList\n",
        "  wordList = [w for w in wordlist if not w in stop_words]\n",
        "  print('After removing stopwords: ', wordList)"
      ]
    }
  ],
  "metadata": {
    "colab": {
      "collapsed_sections": [],
      "name": "text.ipynb",
      "provenance": []
    },
    "kernelspec": {
      "display_name": "Python 3",
      "name": "python3"
    },
    "language_info": {
      "name": "python"
    }
  },
  "nbformat": 4,
  "nbformat_minor": 0
}
