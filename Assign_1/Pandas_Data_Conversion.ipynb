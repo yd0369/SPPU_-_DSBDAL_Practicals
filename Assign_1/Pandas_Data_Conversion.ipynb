{
 "cells": [
  {
   "cell_type": "code",
   "execution_count": 1,
   "metadata": {},
   "outputs": [],
   "source": [
    "#!pip3 install pandas\n",
    "import pandas as PD"
   ]
  },
  {
   "cell_type": "code",
   "execution_count": 2,
   "metadata": {},
   "outputs": [
    {
     "data": {
      "text/plain": [
       "{'name': ['Mumbai', 'Pune', 'Nagpur'],\n",
       " 'temp': [23.12, 16.34, 12.56],\n",
       " 'weather': ['sunny', 'light_shower', 'thunderstorm'],\n",
       " 'humidity': [34, 25, 89],\n",
       " 'precipitation': [2, 23, 46],\n",
       " 'will_rain': [False, True, True]}"
      ]
     },
     "execution_count": 2,
     "metadata": {},
     "output_type": "execute_result"
    }
   ],
   "source": [
    "Cities_Temp_Dict = {\n",
    "\n",
    "    'name' : ['Mumbai', 'Pune', 'Nagpur'],\n",
    "    'temp' : [23.12, 16.34, 12.56],\n",
    "    'weather' : ['sunny', 'light_shower', 'thunderstorm'],\n",
    "    'humidity' : [34, 25, 89],\n",
    "    'precipitation' : [2, 23, 46],\n",
    "    'will_rain': [False, True, True]\n",
    "}\n",
    "\n",
    "Cities_Temp_Dict\n"
   ]
  },
  {
   "cell_type": "code",
   "execution_count": 6,
   "metadata": {},
   "outputs": [
    {
     "name": "stdout",
     "output_type": "stream",
     "text": [
      "Data Shape : (3, 6)\n",
      "Data Size : 18\n"
     ]
    },
    {
     "data": {
      "text/html": [
       "<div>\n",
       "<style scoped>\n",
       "    .dataframe tbody tr th:only-of-type {\n",
       "        vertical-align: middle;\n",
       "    }\n",
       "\n",
       "    .dataframe tbody tr th {\n",
       "        vertical-align: top;\n",
       "    }\n",
       "\n",
       "    .dataframe thead th {\n",
       "        text-align: right;\n",
       "    }\n",
       "</style>\n",
       "<table border=\"1\" class=\"dataframe\">\n",
       "  <thead>\n",
       "    <tr style=\"text-align: right;\">\n",
       "      <th></th>\n",
       "      <th>name</th>\n",
       "      <th>temp</th>\n",
       "      <th>weather</th>\n",
       "      <th>humidity</th>\n",
       "      <th>precipitation</th>\n",
       "      <th>will_rain</th>\n",
       "    </tr>\n",
       "  </thead>\n",
       "  <tbody>\n",
       "    <tr>\n",
       "      <th>0</th>\n",
       "      <td>Mumbai</td>\n",
       "      <td>23.12</td>\n",
       "      <td>sunny</td>\n",
       "      <td>34</td>\n",
       "      <td>2</td>\n",
       "      <td>False</td>\n",
       "    </tr>\n",
       "    <tr>\n",
       "      <th>1</th>\n",
       "      <td>Pune</td>\n",
       "      <td>16.34</td>\n",
       "      <td>light_shower</td>\n",
       "      <td>25</td>\n",
       "      <td>23</td>\n",
       "      <td>True</td>\n",
       "    </tr>\n",
       "    <tr>\n",
       "      <th>2</th>\n",
       "      <td>Nagpur</td>\n",
       "      <td>12.56</td>\n",
       "      <td>thunderstorm</td>\n",
       "      <td>89</td>\n",
       "      <td>46</td>\n",
       "      <td>True</td>\n",
       "    </tr>\n",
       "  </tbody>\n",
       "</table>\n",
       "</div>"
      ],
      "text/plain": [
       "     name   temp       weather  humidity  precipitation  will_rain\n",
       "0  Mumbai  23.12         sunny        34              2      False\n",
       "1    Pune  16.34  light_shower        25             23       True\n",
       "2  Nagpur  12.56  thunderstorm        89             46       True"
      ]
     },
     "execution_count": 6,
     "metadata": {},
     "output_type": "execute_result"
    }
   ],
   "source": [
    "DF = PD.DataFrame(Cities_Temp_Dict)\n",
    "print(\"Data Shape :\", DF.shape)\n",
    "print(\"Data Size :\", DF.size)\n",
    "DF"
   ]
  },
  {
   "cell_type": "code",
   "execution_count": 5,
   "metadata": {},
   "outputs": [
    {
     "data": {
      "text/html": [
       "<div>\n",
       "<style scoped>\n",
       "    .dataframe tbody tr th:only-of-type {\n",
       "        vertical-align: middle;\n",
       "    }\n",
       "\n",
       "    .dataframe tbody tr th {\n",
       "        vertical-align: top;\n",
       "    }\n",
       "\n",
       "    .dataframe thead th {\n",
       "        text-align: right;\n",
       "    }\n",
       "</style>\n",
       "<table border=\"1\" class=\"dataframe\">\n",
       "  <thead>\n",
       "    <tr style=\"text-align: right;\">\n",
       "      <th></th>\n",
       "      <th>name</th>\n",
       "      <th>temp</th>\n",
       "      <th>weather</th>\n",
       "      <th>humidity</th>\n",
       "      <th>precipitation</th>\n",
       "      <th>will_rain</th>\n",
       "    </tr>\n",
       "  </thead>\n",
       "  <tbody>\n",
       "    <tr>\n",
       "      <th>0</th>\n",
       "      <td>Mumbai</td>\n",
       "      <td>23.12</td>\n",
       "      <td>sunny</td>\n",
       "      <td>34</td>\n",
       "      <td>2</td>\n",
       "      <td>False</td>\n",
       "    </tr>\n",
       "    <tr>\n",
       "      <th>1</th>\n",
       "      <td>Pune</td>\n",
       "      <td>16.34</td>\n",
       "      <td>light_shower</td>\n",
       "      <td>25</td>\n",
       "      <td>23</td>\n",
       "      <td>True</td>\n",
       "    </tr>\n",
       "    <tr>\n",
       "      <th>2</th>\n",
       "      <td>Nagpur</td>\n",
       "      <td>12.56</td>\n",
       "      <td>thunderstorm</td>\n",
       "      <td>89</td>\n",
       "      <td>46</td>\n",
       "      <td>True</td>\n",
       "    </tr>\n",
       "  </tbody>\n",
       "</table>\n",
       "</div>"
      ],
      "text/plain": [
       "     name   temp       weather  humidity  precipitation  will_rain\n",
       "0  Mumbai  23.12         sunny        34              2      False\n",
       "1    Pune  16.34  light_shower        25             23       True\n",
       "2  Nagpur  12.56  thunderstorm        89             46       True"
      ]
     },
     "execution_count": 5,
     "metadata": {},
     "output_type": "execute_result"
    }
   ],
   "source": [
    "DF.head()"
   ]
  },
  {
   "cell_type": "code",
   "execution_count": 7,
   "metadata": {},
   "outputs": [
    {
     "data": {
      "text/plain": [
       "dtype('O')"
      ]
     },
     "execution_count": 7,
     "metadata": {},
     "output_type": "execute_result"
    }
   ],
   "source": [
    "#Default DataType \n",
    "DF.dtypes"
   ]
  },
  {
   "cell_type": "code",
   "execution_count": 5,
   "metadata": {},
   "outputs": [
    {
     "data": {
      "text/plain": [
       "name              string\n",
       "temp             float32\n",
       "weather           string\n",
       "humidity           int32\n",
       "precipitation      int32\n",
       "will_rain           bool\n",
       "dtype: object"
      ]
     },
     "execution_count": 5,
     "metadata": {},
     "output_type": "execute_result"
    }
   ],
   "source": [
    "DF = DF.astype({\n",
    "    'name': 'string', \n",
    "    'temp': 'float32', \n",
    "    'weather' : 'string',\n",
    "    'humidity' : 'int32',\n",
    "    'precipitation' : 'int32',})\n",
    "DF.dtypes"
   ]
  },
  {
   "cell_type": "code",
   "execution_count": 6,
   "metadata": {},
   "outputs": [
    {
     "data": {
      "text/plain": [
       "name              string\n",
       "temp             float32\n",
       "weather            int64\n",
       "humidity           int32\n",
       "precipitation      int32\n",
       "will_rain           bool\n",
       "dtype: object"
      ]
     },
     "execution_count": 6,
     "metadata": {},
     "output_type": "execute_result"
    }
   ],
   "source": [
    "DF['weather'].replace(['sunny', 'light_shower', 'thunderstorm'], [0,1,2], inplace=True)\n",
    "DF.dtypes"
   ]
  },
  {
   "cell_type": "code",
   "execution_count": 7,
   "metadata": {},
   "outputs": [
    {
     "data": {
      "text/plain": [
       "name              string\n",
       "temp             float32\n",
       "weather            int16\n",
       "humidity           int32\n",
       "precipitation      int32\n",
       "will_rain           bool\n",
       "dtype: object"
      ]
     },
     "execution_count": 7,
     "metadata": {},
     "output_type": "execute_result"
    }
   ],
   "source": [
    "DF = DF.astype({\n",
    "    'weather' : 'int16'\n",
    "})\n",
    "DF.dtypes"
   ]
  },
  {
   "cell_type": "code",
   "execution_count": 8,
   "metadata": {},
   "outputs": [
    {
     "data": {
      "text/html": [
       "<div>\n",
       "<style scoped>\n",
       "    .dataframe tbody tr th:only-of-type {\n",
       "        vertical-align: middle;\n",
       "    }\n",
       "\n",
       "    .dataframe tbody tr th {\n",
       "        vertical-align: top;\n",
       "    }\n",
       "\n",
       "    .dataframe thead th {\n",
       "        text-align: right;\n",
       "    }\n",
       "</style>\n",
       "<table border=\"1\" class=\"dataframe\">\n",
       "  <thead>\n",
       "    <tr style=\"text-align: right;\">\n",
       "      <th></th>\n",
       "      <th>name</th>\n",
       "      <th>temp</th>\n",
       "      <th>weather</th>\n",
       "      <th>humidity</th>\n",
       "      <th>precipitation</th>\n",
       "      <th>will_rain</th>\n",
       "    </tr>\n",
       "  </thead>\n",
       "  <tbody>\n",
       "    <tr>\n",
       "      <th>0</th>\n",
       "      <td>Mumbai</td>\n",
       "      <td>23.120001</td>\n",
       "      <td>0</td>\n",
       "      <td>34</td>\n",
       "      <td>2</td>\n",
       "      <td>False</td>\n",
       "    </tr>\n",
       "    <tr>\n",
       "      <th>1</th>\n",
       "      <td>Pune</td>\n",
       "      <td>16.340000</td>\n",
       "      <td>1</td>\n",
       "      <td>25</td>\n",
       "      <td>23</td>\n",
       "      <td>True</td>\n",
       "    </tr>\n",
       "    <tr>\n",
       "      <th>2</th>\n",
       "      <td>Nagpur</td>\n",
       "      <td>12.560000</td>\n",
       "      <td>2</td>\n",
       "      <td>89</td>\n",
       "      <td>46</td>\n",
       "      <td>True</td>\n",
       "    </tr>\n",
       "  </tbody>\n",
       "</table>\n",
       "</div>"
      ],
      "text/plain": [
       "     name       temp  weather  humidity  precipitation  will_rain\n",
       "0  Mumbai  23.120001        0        34              2      False\n",
       "1    Pune  16.340000        1        25             23       True\n",
       "2  Nagpur  12.560000        2        89             46       True"
      ]
     },
     "execution_count": 8,
     "metadata": {},
     "output_type": "execute_result"
    }
   ],
   "source": [
    "DF"
   ]
  },
  {
   "cell_type": "code",
   "execution_count": 9,
   "metadata": {},
   "outputs": [
    {
     "data": {
      "text/plain": [
       "name               string\n",
       "temp              float32\n",
       "weather          category\n",
       "humidity            int32\n",
       "precipitation       int32\n",
       "will_rain            bool\n",
       "dtype: object"
      ]
     },
     "execution_count": 9,
     "metadata": {},
     "output_type": "execute_result"
    }
   ],
   "source": [
    "DF[\"weather\"] = DF[\"weather\"].astype('category')\n",
    "DF.dtypes"
   ]
  },
  {
   "cell_type": "code",
   "execution_count": null,
   "metadata": {},
   "outputs": [],
   "source": []
  }
 ],
 "metadata": {
  "interpreter": {
   "hash": "2ba58f1da74cde5a33276ae29ad0611c060866d5d41dd1b288730d3cc08c328d"
  },
  "kernelspec": {
   "display_name": "Python 3.8.10 64-bit ('assign1_venv_-_pandas': venv)",
   "language": "python",
   "name": "python3"
  },
  "language_info": {
   "codemirror_mode": {
    "name": "ipython",
    "version": 3
   },
   "file_extension": ".py",
   "mimetype": "text/x-python",
   "name": "python",
   "nbconvert_exporter": "python",
   "pygments_lexer": "ipython3",
   "version": "3.8.10"
  },
  "orig_nbformat": 4
 },
 "nbformat": 4,
 "nbformat_minor": 2
}
